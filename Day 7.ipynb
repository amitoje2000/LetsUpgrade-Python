{
 "cells": [
  {
   "cell_type": "code",
   "execution_count": 18,
   "metadata": {},
   "outputs": [
    {
     "name": "stdout",
     "output_type": "stream",
     "text": [
      "Original dictionary is :\n",
      "port1:-  {21: 'FTP', 22: 'SSH', 23: 'telnet', 80: 'http'}\n",
      "\n",
      "Final Dictionary after swapping is : \n",
      "Port2:- {'FTP': 21, 'SSH': 22, 'telnet': 23, 'http': 80}\n"
     ]
    }
   ],
   "source": [
    "#Solution 1:-\n",
    "\n",
    "port1_old_dict = {21:\"FTP\", 22:\"SSH\", 23:\"telnet\",80:\"http\"} \n",
    "  \n",
    "Port2_new_dict = {value:key for key, value in port1_old_dict.items()} \n",
    "     \n",
    "print (\"Original dictionary is :\\nport1:- \",port1_old_dict) \n",
    "print()  \n",
    "\n",
    "print (\"Final Dictionary after swapping is : \\nPort2:-\",Port2_new_dict)  "
   ]
  },
  {
   "cell_type": "code",
   "execution_count": 22,
   "metadata": {},
   "outputs": [
    {
     "name": "stdout",
     "output_type": "stream",
     "text": [
      "[3, 7, 11, 9]\n"
     ]
    }
   ],
   "source": [
    "#Solution 2:-\n",
    "\n",
    "l1=[(1,2),(3,4),(5,6),(4,5)] #inputs\n",
    "k=[]\n",
    "for t in l1:\n",
    "    k.append(sum(t))\n",
    "print(k)"
   ]
  },
  {
   "cell_type": "code",
   "execution_count": null,
   "metadata": {},
   "outputs": [],
   "source": []
  }
 ],
 "metadata": {
  "kernelspec": {
   "display_name": "Python 3",
   "language": "python",
   "name": "python3"
  },
  "language_info": {
   "codemirror_mode": {
    "name": "ipython",
    "version": 3
   },
   "file_extension": ".py",
   "mimetype": "text/x-python",
   "name": "python",
   "nbconvert_exporter": "python",
   "pygments_lexer": "ipython3",
   "version": "3.7.3"
  }
 },
 "nbformat": 4,
 "nbformat_minor": 2
}

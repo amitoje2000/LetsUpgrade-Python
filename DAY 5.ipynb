{
 "cells": [
  {
   "cell_type": "code",
   "execution_count": 3,
   "metadata": {},
   "outputs": [
    {
     "name": "stdout",
     "output_type": "stream",
     "text": [
      "Sorted Array [0, 0, 0, 0, 0, 1, 1, 1, 2, 2, 3, 4, 4, 10, 56, 56]\n",
      "\n",
      "Final Resultant Array after Zeroes at end:\n",
      "\n",
      "[1, 1, 1, 2, 2, 3, 4, 4, 10, 56, 56, 0, 0, 0, 0, 0]\n"
     ]
    }
   ],
   "source": [
    "# Solution 1:-\n",
    "\n",
    "def pushZerosToEnd(arr, n): \n",
    "    count = 0 \n",
    "    for i in range(n): \n",
    "        if arr[i] != 0:  \n",
    "            arr[count] = arr[i] \n",
    "            count+=1\n",
    "    while count < n: \n",
    "        arr[count] = 0\n",
    "        count += 1\n",
    "arr = [0, 1, 2, 10, 4, 1, 0, 56, 2, 0, 1, 3, 0, 56, 0, 4] \n",
    "n = len(arr) \n",
    "arr.sort()\n",
    "print('Sorted Array',arr)\n",
    "pushZerosToEnd(arr, n) \n",
    "print(\"\\nFinal Resultant Array after Zeroes at end:\\n\") \n",
    "print(arr) \n",
    "  "
   ]
  },
  {
   "cell_type": "code",
   "execution_count": 9,
   "metadata": {},
   "outputs": [
    {
     "name": "stdout",
     "output_type": "stream",
     "text": [
      "The original list 1 is : [10, 20, 40, 60, 70, 80]\n",
      "\n",
      "The original list 2 is : [5, 15, 25, 35, 45, 60]\n",
      "\n",
      "The Resultant Combined sorted list is : \n",
      "[5, 10, 15, 20, 25, 35, 40, 45, 60, 60, 70, 80]\n"
     ]
    }
   ],
   "source": [
    "#Solution 2:-\n",
    "\n",
    "list1 = [10, 20, 40, 60, 70, 80] \n",
    "list2 = [5, 15, 25, 35, 45, 60]  \n",
    "print (\"The original list 1 is : \" + str(list1)) \n",
    "print (\"\\nThe original list 2 is : \" + str(list2)) \n",
    "  \n",
    "\n",
    "size_1 = len(list1) \n",
    "size_2 = len(list2) \n",
    "  \n",
    "resultant_list = [] \n",
    "i, j = 0, 0\n",
    "  \n",
    "while i < size_1 and j < size_2: \n",
    "    if list1[i] < list2[j]: \n",
    "        resultant_list.append(list1[i]) \n",
    "        i += 1\n",
    "  \n",
    "    else: \n",
    "        resultant_list.append(list2[j]) \n",
    "        j += 1\n",
    "        \n",
    "resultant_list = resultant_list + list1[i:] + list2[j:] \n",
    "  \n",
    "# printing result \n",
    "print (\"\\nThe Resultant Combined sorted list is : \\n\" + str(resultant_list)) "
   ]
  },
  {
   "cell_type": "code",
   "execution_count": null,
   "metadata": {},
   "outputs": [],
   "source": []
  }
 ],
 "metadata": {
  "kernelspec": {
   "display_name": "Python 3",
   "language": "python",
   "name": "python3"
  },
  "language_info": {
   "codemirror_mode": {
    "name": "ipython",
    "version": 3
   },
   "file_extension": ".py",
   "mimetype": "text/x-python",
   "name": "python",
   "nbconvert_exporter": "python",
   "pygments_lexer": "ipython3",
   "version": "3.7.3"
  }
 },
 "nbformat": 4,
 "nbformat_minor": 2
}
